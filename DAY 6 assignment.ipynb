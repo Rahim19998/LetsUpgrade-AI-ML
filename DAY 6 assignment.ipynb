{
 "cells": [
  {
   "cell_type": "code",
   "execution_count": 3,
   "metadata": {},
   "outputs": [
    {
     "name": "stdout",
     "output_type": "stream",
     "text": [
      "Enter the emailid =rahim@googl.com\n",
      "company name : googl"
     ]
    }
   ],
   "source": [
    "# Q1 to print the company name of a given email address\n",
    "\n",
    "email = input(\"Enter the emailid =\")\n",
    "\n",
    "st = email.index(\"@\")\n",
    "sp = email.index(\".\")\n",
    "\n",
    "print(\"company name :\", email[st+1 : sp], end='')"
   ]
  },
  {
   "cell_type": "code",
   "execution_count": 5,
   "metadata": {},
   "outputs": [
    {
     "name": "stdout",
     "output_type": "stream",
     "text": [
      "Enter the words to arranged : hi hi\n",
      "['hi hi'],"
     ]
    }
   ],
   "source": [
    "# Q2 a program that accepts a comma-separated sequence of words as input and \n",
    "#prints the words in a comma separated sequence after sorting them alphabetically\n",
    "\n",
    "lst = list(input(\"Enter the words to arranged : \").split(','))\n",
    "lst.sort()\n",
    "print(lst,end=',')"
   ]
  },
  {
   "cell_type": "code",
   "execution_count": 8,
   "metadata": {},
   "outputs": [
    {
     "name": "stdout",
     "output_type": "stream",
     "text": [
      "{1, 2, 10, 43, 12, 44, 23, 123, 30}\n"
     ]
    }
   ],
   "source": [
    "# Q3 example for sets\n",
    "# Create your own Jupyter Notebook for Sets.\n",
    "\n",
    "set1 = {10,123,12,23,44,43}\n",
    "set2 = {1,2,30}\n",
    "\n",
    "set1.update(set2)\n",
    "print (set1)"
   ]
  },
  {
   "cell_type": "code",
   "execution_count": 12,
   "metadata": {},
   "outputs": [
    {
     "name": "stdout",
     "output_type": "stream",
     "text": [
      "Input value :2,4,8\n",
      "The missing values are : [1, 3, 5, 6, 7]\n"
     ]
    }
   ],
   "source": [
    "# Q4 Given a list of n-1 numbers ranging from 1 to n, your task is to find the missing number.\n",
    "\n",
    "listinput = list(map(int,input('Input value :').split(\",\")))\n",
    "listinput.sort()\n",
    "missing_lst = []\n",
    "for i in range (1, listinput[-1]+1):\n",
    "    if i not in listinput:\n",
    "        missing_lst.append(i)\n",
    "print('The missing values are :',missing_lst)"
   ]
  },
  {
   "cell_type": "code",
   "execution_count": 17,
   "metadata": {},
   "outputs": [
    {
     "name": "stdout",
     "output_type": "stream",
     "text": [
      "the original elements are:\n",
      "Input value :20 43 22 20 19 17\n",
      "after removing duplicates and arranging in ascending order:\n",
      "17 19 20 22 43\n"
     ]
    }
   ],
   "source": [
    "# Q5 write a program to print this list L after removing all duplicate values with original order reserved\n",
    "\n",
    "print(\"the original elements are:\")\n",
    "ls = list(map(int, input('Input value :').strip().split()))\n",
    "\n",
    "x = sorted(set(ls))\n",
    "print(\"after removing duplicates and arranging in ascending order:\")\n",
    "x = list(map(str, x))\n",
    "\n",
    "print(' '.join(x))"
   ]
  },
  {
   "cell_type": "code",
   "execution_count": null,
   "metadata": {},
   "outputs": [],
   "source": []
  },
  {
   "cell_type": "code",
   "execution_count": null,
   "metadata": {},
   "outputs": [],
   "source": []
  }
 ],
 "metadata": {
  "kernelspec": {
   "display_name": "Python 3",
   "language": "python",
   "name": "python3"
  },
  "language_info": {
   "codemirror_mode": {
    "name": "ipython",
    "version": 3
   },
   "file_extension": ".py",
   "mimetype": "text/x-python",
   "name": "python",
   "nbconvert_exporter": "python",
   "pygments_lexer": "ipython3",
   "version": "3.7.6"
  }
 },
 "nbformat": 4,
 "nbformat_minor": 4
}
