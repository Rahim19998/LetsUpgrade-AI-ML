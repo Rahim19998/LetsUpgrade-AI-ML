{
 "cells": [
  {
   "cell_type": "code",
   "execution_count": 13,
   "metadata": {},
   "outputs": [
    {
     "name": "stdout",
     "output_type": "stream",
     "text": [
      "Enter the real part of complex1 =7\n",
      "enter the imaginary part of complex1 =8\n",
      "Enetr the real part of complex2 =3\n",
      "Enter the imaginary part of complex2 =4\n",
      "The result is (4+4j)\n"
     ]
    }
   ],
   "source": [
    "#Q1 subtract two complex numbers\n",
    "\n",
    "a1 = float(input(\"Enter the real part of complex1 =\"))\n",
    "b1 = float(input(\"enter the imaginary part of complex1 =\"))\n",
    "complex1 = complex(a1,b1)\n",
    "\n",
    "a2 = float(input(\"Enetr the real part of complex2 =\"))\n",
    "b2 = float(input(\"Enter the imaginary part of complex2 =\"))\n",
    "complex2 = complex(a2,b2)\n",
    "\n",
    "sub = complex1 - complex2\n",
    "print(\"The result is\",sub)"
   ]
  },
  {
   "cell_type": "code",
   "execution_count": 30,
   "metadata": {},
   "outputs": [
    {
     "name": "stdout",
     "output_type": "stream",
     "text": [
      "Enter a number =81\n",
      "The fourth root of the number is 3.0\n"
     ]
    }
   ],
   "source": [
    "#Q2 fourth root of a number\n",
    "\n",
    "a=float(input(\"Enter a number =\"))\n",
    "r=a**0.25\n",
    "print(\"The fourth root of the number is\",r)"
   ]
  },
  {
   "cell_type": "code",
   "execution_count": 19,
   "metadata": {},
   "outputs": [
    {
     "name": "stdout",
     "output_type": "stream",
     "text": [
      "Enter the number1 = 1\n",
      "ENter the number2 = 2.5\n",
      "before swapping\n",
      "1.0\n",
      "2.5\n",
      "After swapping with temporary variable\n",
      "2.5\n",
      "1.0\n"
     ]
    }
   ],
   "source": [
    "#Q3 Swapping of 2 no with temporary variable \n",
    "\n",
    "a = float(input(\"Enter the number1 = \"))\n",
    "b = float(input(\"ENter the number2 = \"))\n",
    "print(\"before swapping\")\n",
    "print(a)\n",
    "print(b)\n",
    "\n",
    "c = a\n",
    "a = b\n",
    "b = c\n",
    "print(\"After swapping with temporary variable\")\n",
    "print(a)\n",
    "print(b)\n",
    "\n",
    "\n"
   ]
  },
  {
   "cell_type": "code",
   "execution_count": 27,
   "metadata": {},
   "outputs": [
    {
     "name": "stdout",
     "output_type": "stream",
     "text": [
      "Enter a number1 =1\n",
      "Enter a number2 =5\n",
      "Before swapping\n",
      "1.0\n",
      "5.0\n",
      "after swapping\n",
      "5.0\n",
      "1.0\n"
     ]
    }
   ],
   "source": [
    "#Q3 Swappung without temporaary variable\n",
    "\n",
    "a =float(input(\"Enter a number1 =\"))\n",
    "b =float(input(\"Enter a number2 =\"))\n",
    "print(\"Before swapping\")\n",
    "print(a)\n",
    "print(b)\n",
    "\n",
    "a,b=b,a\n",
    "print(\"after swapping\")\n",
    "print(a)\n",
    "print(b)\n"
   ]
  },
  {
   "cell_type": "code",
   "execution_count": 36,
   "metadata": {},
   "outputs": [
    {
     "name": "stdout",
     "output_type": "stream",
     "text": [
      "Enter the temp in fahrenheit =100\n",
      "Fahrenheit in celcius is = 37.77777777777778\n",
      "fahrenheit in kelvin is = 310.92777777777775\n"
     ]
    }
   ],
   "source": [
    "#Q5 fahrenheit to celcius and kelvin\n",
    "\n",
    "F=float(input(\"Enter the temp in fahrenheit =\"))\n",
    "C= 5/9*(F-32)\n",
    "print(\"Fahrenheit in celcius is =\",C)\n",
    "K=C+273.15\n",
    "print(\"fahrenheit in kelvin is =\",K)\n",
    "\n"
   ]
  },
  {
   "cell_type": "code",
   "execution_count": 26,
   "metadata": {},
   "outputs": [
    {
     "name": "stdout",
     "output_type": "stream",
     "text": [
      "<class 'int'>\n",
      "<class 'float'>\n",
      "<class 'int'>\n",
      "<class 'complex'>\n",
      "<class 'str'>\n",
      "<class 'bool'>\n"
     ]
    }
   ],
   "source": [
    "#Q6 demonstrate all data types\n",
    "\n",
    "a=12\n",
    "b=12.1\n",
    "c=999999999\n",
    "d=1+2j\n",
    "e=\"hi\"\n",
    "f= False \n",
    "print(type(a))\n",
    "print(type(b))\n",
    "print(type(c))\n",
    "print(type(d))\n",
    "print(type(e))\n",
    "print(type(f))"
   ]
  },
  {
   "cell_type": "markdown",
   "metadata": {},
   "source": []
  },
  {
   "cell_type": "markdown",
   "metadata": {},
   "source": [
    "# Q7\n",
    "\n",
    "# steps to create github profile\n",
    "\n",
    "First go to __github.com__,then create your account by signing up.\n",
    "After creating account ,create a repository by name ***LetsUpgrade AI-ML***\n",
    "\n",
    "# Uploading the assignments\n",
    "\n",
    "After we our assignments,go to the __github repository__ choose the file and submit of respective day assignments.\n",
    "Check wheather the assignments are public or private.\n",
    "copy the link and submit it in the google forms with necessary details and submit.\n",
    "\n",
    "\n",
    "\n",
    "\n",
    "\n"
   ]
  },
  {
   "cell_type": "code",
   "execution_count": 33,
   "metadata": {},
   "outputs": [
    {
     "data": {
      "text/plain": [
       "'C:\\\\Users\\\\Rahim'"
      ]
     },
     "execution_count": 33,
     "metadata": {},
     "output_type": "execute_result"
    }
   ],
   "source": []
  },
  {
   "cell_type": "code",
   "execution_count": 29,
   "metadata": {},
   "outputs": [
    {
     "name": "stdout",
     "output_type": "stream",
     "text": [
      "Enter a number =81\n",
      "The fourth root of the number is 3.0\n"
     ]
    }
   ],
   "source": []
  },
  {
   "cell_type": "code",
   "execution_count": null,
   "metadata": {},
   "outputs": [],
   "source": []
  }
 ],
 "metadata": {
  "kernelspec": {
   "display_name": "Python 3",
   "language": "python",
   "name": "python3"
  },
  "language_info": {
   "codemirror_mode": {
    "name": "ipython",
    "version": 3
   },
   "file_extension": ".py",
   "mimetype": "text/x-python",
   "name": "python",
   "nbconvert_exporter": "python",
   "pygments_lexer": "ipython3",
   "version": "3.7.6"
  }
 },
 "nbformat": 4,
 "nbformat_minor": 4
}
