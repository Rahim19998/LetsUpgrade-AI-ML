{
 "cells": [
  {
   "cell_type": "code",
   "execution_count": 21,
   "metadata": {},
   "outputs": [
    {
     "name": "stdout",
     "output_type": "stream",
     "text": [
      "enter the real part of complex1 = 2\n",
      "enter the imaginary part of complex1= 23\n",
      "nter the real part of complex2 = 2\n",
      "enter the imaginary part of complex2= 2\n",
      "the sum of comp numbers is = (4+25j)\n",
      "the sub of comp numbers is = 21j\n",
      "the product of comp numbers is = (-42+50j)\n",
      "the division result of comp numbers is = (6.25+5.25j)\n"
     ]
    }
   ],
   "source": [
    "#Q1 Operations on complex numbers\n",
    "\n",
    "a1= float(input(\"enter the real part of complex1 = \"))\n",
    "b1= float(input(\"enter the imaginary part of complex1= \"))\n",
    "\n",
    "comp1=complex(a1,b1)\n",
    "\n",
    "a2 = float(input(\"nter the real part of complex2 = \"))\n",
    "b2= float(input(\"enter the imaginary part of complex2= \"))\n",
    "\n",
    "comp2=complex(a2,b2)\n",
    "\n",
    "\n",
    "add=comp1+comp2\n",
    "print(\"the sum of comp numbers is =\",add)\n",
    "\n",
    "sub=comp1-comp2\n",
    "print(\"the sub of comp numbers is =\",sub)\n",
    "\n",
    "mul=comp1*comp2\n",
    "print(\"the product of comp numbers is =\",mul)\n",
    "\n",
    "div=comp1/comp2\n",
    "print(\"the division result of comp numbers is =\",div)\n",
    "\n",
    "#floor divsion and modulo division is not applicable to complex numbers in python 3\n"
   ]
  },
  {
   "cell_type": "markdown",
   "metadata": {},
   "source": [
    "# Q2   range() function\n",
    "\n",
    "range() function  is a function which returns a value in a sequence.There are three parameters in this that is,the starting value,the step value and the stop value.\n",
    "\n",
    "if the start value is not given,then it sets zero as a default value\n",
    "if the step value is not given then it sets it as one as default value\n",
    "\n",
    "\n"
   ]
  },
  {
   "cell_type": "code",
   "execution_count": 3,
   "metadata": {},
   "outputs": [
    {
     "name": "stdout",
     "output_type": "stream",
     "text": [
      "2\n",
      "22\n",
      "42\n",
      "62\n",
      "82\n"
     ]
    }
   ],
   "source": [
    "for i in range(2,100,20):\n",
    "    print(i)\n"
   ]
  },
  {
   "cell_type": "code",
   "execution_count": null,
   "metadata": {},
   "outputs": [],
   "source": []
  },
  {
   "cell_type": "code",
   "execution_count": null,
   "metadata": {},
   "outputs": [],
   "source": [
    "#Q3 \n",
    "\n",
    "a= float(input(\"Enter the number1 =\"))\n",
    "b= float(input(\"enter the number2 =\"))\n",
    "\n",
    "if a-b>25:\n",
    "    p=a*b\n",
    "    print(\"their product is = \",p)\n",
    "\n",
    "else:\n",
    "    d=a/b\n",
    "    print(\"division result is = \",d)"
   ]
  },
  {
   "cell_type": "code",
   "execution_count": null,
   "metadata": {},
   "outputs": [],
   "source": [
    "#Q4\n",
    "\n",
    "l=[1,2,3,4,5,6,7,8,9,10]\n",
    "for i in l:\n",
    "    if i%2==0:\n",
    "        r=(i**2)-2\n",
    "        print(\"The square of that num minus 2 is =\",r)"
   ]
  },
  {
   "cell_type": "code",
   "execution_count": 16,
   "metadata": {},
   "outputs": [
    {
     "name": "stdout",
     "output_type": "stream",
     "text": [
      "division of  25 by 2 is greater than 7\n",
      "division of  30 by 2 is greater than 7\n",
      "division of  40 by 2 is greater than 7\n",
      "division of  555 by 2 is greater than 7\n",
      "division of  60 by 2 is greater than 7\n",
      "division of  78 by 2 is greater than 7\n",
      "division of  89 by 2 is greater than 7\n",
      "division of  90 by 2 is greater than 7\n",
      "division of  100 by 2 is greater than 7\n"
     ]
    }
   ],
   "source": [
    "#Q5\n",
    "\n",
    "l=[10,25,30,40,555,60,78,89,90,100]\n",
    "for i in l:\n",
    "    if i/2>7:\n",
    "        print(\"division of \",i,\"by 2 is greater than 7\")"
   ]
  },
  {
   "cell_type": "code",
   "execution_count": null,
   "metadata": {},
   "outputs": [],
   "source": []
  },
  {
   "cell_type": "code",
   "execution_count": null,
   "metadata": {},
   "outputs": [],
   "source": []
  }
 ],
 "metadata": {
  "kernelspec": {
   "display_name": "Python 3",
   "language": "python",
   "name": "python3"
  },
  "language_info": {
   "codemirror_mode": {
    "name": "ipython",
    "version": 3
   },
   "file_extension": ".py",
   "mimetype": "text/x-python",
   "name": "python",
   "nbconvert_exporter": "python",
   "pygments_lexer": "ipython3",
   "version": "3.7.6"
  }
 },
 "nbformat": 4,
 "nbformat_minor": 4
}
